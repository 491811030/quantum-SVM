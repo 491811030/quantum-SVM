{
 "cells": [
  {
   "cell_type": "code",
   "execution_count": 1,
   "metadata": {
    "collapsed": true
   },
   "outputs": [],
   "source": [
    "from IPython.display import Image\n",
    "from numpy import pi\n",
    "from qutip import *\n",
    "import numpy as np\n",
    "from qutip.qip.circuit import *\n",
    "from qutip.qip.qubits import *"
   ]
  },
  {
   "cell_type": "code",
   "execution_count": 2,
   "metadata": {
    "collapsed": true
   },
   "outputs": [],
   "source": [
    "init = qubit_states(4,[0,0,1,0])"
   ]
  },
  {
   "cell_type": "code",
   "execution_count": 3,
   "metadata": {
    "collapsed": true
   },
   "outputs": [],
   "source": [
    "qc1 = QubitCircuit(4)\n",
    "qc1.add_gate(\"SNOT\", 2)\n",
    "\n",
    "qc1.add_gate(\"SNOT\", 0)\n",
    "qc1.add_gate(\"SNOT\", 1)\n",
    "qc1.add_gate(\"F1\", 2, 0)\n",
    "qc1.add_gate(\"F2\", 2, 1)\n",
    "qc1.add_gate(\"SWAP\", [1,0])\n",
    "qc1.add_gate(\"SNOT\", 1)\n",
    "qc1.add_gate(\"SINV\", 0, 1)\n",
    "qc1.add_gate(\"SNOT\", 0)\n",
    "qc1.add_gate(\"RY4\", 3, 1)\n",
    "qc1.add_gate(\"RY8\", 3, 0)\n",
    "qc1.add_gate(\"SNOT\", 0)\n",
    "qc1.add_gate(\"S\", 0, 1)\n",
    "qc1.add_gate(\"SNOT\", 1)\n",
    "qc1.add_gate(\"SWAP\", [1,0])\n",
    "qc1.add_gate(\"F2INV\", 2, 1)\n",
    "qc1.add_gate(\"F1INV\", 2, 0)\n",
    "qc1.add_gate(\"SNOT\", 0)\n",
    "qc1.add_gate(\"SNOT\", 1)\n",
    "\n",
    "qc1.add_gate(\"SIGMAX\", 2)\n",
    "qc1.add_gate(\"RYT1\", 1, 2)\n",
    "qc1.add_gate(\"CNOT\", 2, 3)\n",
    "qc1.add_gate(\"RYT1d\", 1, 2)\n",
    "qc1.add_gate(\"CNOT\", 2, 3)\n",
    "qc1.add_gate(\"RYT1\", 1, 2)\n",
    "qc1.add_gate(\"SIGMAX\", 2)\n",
    "\n",
    "qc1.add_gate(\"RYT2\", 1, 2)\n",
    "qc1.add_gate(\"CNOT\", 2, 3)\n",
    "qc1.add_gate(\"RYT2d\", 1, 2)\n",
    "qc1.add_gate(\"CNOT\", 2, 3)\n",
    "qc1.add_gate(\"RYT2\", 1, 2)\n",
    "\n",
    "qc1.add_gate(\"RYT0\", 1, 3)\n",
    "qc1.add_gate(\"CH\", 2, 3)\n",
    "qc1.add_gate(\"SWAP\", [3,0])"
   ]
  },
  {
   "cell_type": "code",
   "execution_count": 4,
   "metadata": {
    "collapsed": true,
    "scrolled": false
   },
   "outputs": [],
   "source": [
    "U_list1 = qc1.propagators()\n",
    "U1 = gate_sequence_product(U_list1)\n",
    "phi=U1*init"
   ]
  },
  {
   "cell_type": "code",
   "execution_count": 5,
   "metadata": {
    "scrolled": true
   },
   "outputs": [
    {
     "name": "stdout",
     "output_type": "stream",
     "text": [
      "[[-0.38859194]] I think this number is 9.\n"
     ]
    }
   ],
   "source": [
    "if np.sign(phi[14].real)==1:\n",
    "    print(phi[14].real,'I think this number is 6.')\n",
    "else:\n",
    "    print(phi[14].real,'I think this number is 9.')"
   ]
  },
  {
   "attachments": {
    "image.png": {
     "image/png": "[encoded data removed]"
    }
   },
   "cell_type": "markdown",
   "metadata": {},
   "source": [
    "number1![image.png](attachment:image.png)\n",
    "[[ 0.17961367]] I think this number is 6."
   ]
  },
  {
   "attachments": {
    "image.png": {
     "image/png": "[encoded data removed]"
    }
   },
   "cell_type": "markdown",
   "metadata": {},
   "source": [
    "number2![image.png](attachment:image.png)\n",
    "[[-0.34547444]] I think this number is 9."
   ]
  },
  {
   "attachments": {
    "image.png": {
     "image/png": "[encoded data removed]"
    }
   },
   "cell_type": "markdown",
   "metadata": {},
   "source": [
    "number3![image.png](attachment:image.png)\n",
    "[[-0.39424927]] I think this number is 9."
   ]
  },
  {
   "attachments": {
    "image.png": {
     "image/png": "[encoded data removed]"
    }
   },
   "cell_type": "markdown",
   "metadata": {},
   "source": [
    "number4![image.png](attachment:image.png)\n",
    "[[ 0.13911981]] I think this number is 6."
   ]
  },
  {
   "attachments": {
    "image.png": {
     "image/png": "[encoded data removed]"
    }
   },
   "cell_type": "markdown",
   "metadata": {},
   "source": [
    "number5![image.png](attachment:image.png)\n",
    "[[ 0.16224233]] I think this number is 6."
   ]
  },
  {
   "attachments": {
    "image.png": {
     "image/png": "[encoded data removed]"
    }
   },
   "cell_type": "markdown",
   "metadata": {
    "collapsed": true
   },
   "source": [
    "number6![image.png](attachment:image.png)\n",
    "[[-0.31246541]] I think this number is 9."
   ]
  },
  {
   "attachments": {
    "image.png": {
     "image/png": "[encoded data removed]"
    }
   },
   "cell_type": "markdown",
   "metadata": {},
   "source": [
    "number7![image.png](attachment:image.png)\n",
    "[[ 0.21548711]] I think this number is 6."
   ]
  },
  {
   "attachments": {
    "image.png": {
     "image/png": "[encoded data removed]"
    }
   },
   "cell_type": "markdown",
   "metadata": {
    "collapsed": true
   },
   "source": [
    "number8![image.png](attachment:image.png)\n",
    "[[-0.38859194]] I think this number is 9."
   ]
  },
  {
   "cell_type": "code",
   "execution_count": null,
   "metadata": {
    "collapsed": true
   },
   "outputs": [],
   "source": []
  }
 ],
 "metadata": {
  "kernelspec": {
   "display_name": "Python 3",
   "language": "python",
   "name": "python3"
  },
  "language_info": {
   "codemirror_mode": {
    "name": "ipython",
    "version": 3
   },
   "file_extension": ".py",
   "mimetype": "text/x-python",
   "name": "python",
   "nbconvert_exporter": "python",
   "pygments_lexer": "ipython3",
   "version": "3.6.2"
  }
 },
 "nbformat": 4,
 "nbformat_minor": 1
}
